{
 "cells": [
  {
   "cell_type": "code",
   "execution_count": 1,
   "metadata": {},
   "outputs": [
    {
     "name": "stdout",
     "output_type": "stream",
     "text": [
      "Hello World\n"
     ]
    }
   ],
   "source": [
    "print(\"Hello World\")"
   ]
  },
  {
   "cell_type": "code",
   "execution_count": 2,
   "metadata": {},
   "outputs": [],
   "source": [
    "import openai\n",
    "import os \n",
    "\n",
    "api_key = os.getenv(\"OPENAI_API_KEY\")\n",
    "if not api_key:\n",
    "\n",
    "    api_key = input(\"Enter your OpenAI API key: \").strip()\n",
    "    os.environ[\"OPENAI_API_KEY\"] = api_key\n",
    "\n",
    "    if not api_key:\n",
    "        raise ValueError(\"No API key provided\")"
   ]
  },
  {
   "cell_type": "code",
   "execution_count": 3,
   "metadata": {},
   "outputs": [
    {
     "name": "stdout",
     "output_type": "stream",
     "text": [
      "Sure! Here are some random words for you:\n",
      "\n",
      "1. Ephemeral\n",
      "2. Quixotic\n",
      "3. Serendipity\n",
      "4. Luminescent\n",
      "5. Nostalgia\n",
      "6. Eloquent\n",
      "7. Whimsical\n",
      "8. Labyrinth\n",
      "9. Euphoria\n",
      "10. Zenith\n",
      "\n",
      "Let me know if you'd like more or if you have any specific categories in mind!\n"
     ]
    }
   ],
   "source": [
    "response = openai.chat.completions.create(\n",
    "    model=\"gpt-4o-mini\",\n",
    "    messages=[\n",
    "        {\"role\": \"system\", \"content\": \"You are a helpful assistant.\"},\n",
    "        {\"role\": \"user\", \"content\": \"Can you print random words?\"}\n",
    "    ]\n",
    ")\n",
    "\n",
    "print(response.choices[0].message.content)"
   ]
  },
  {
   "cell_type": "code",
   "execution_count": 4,
   "metadata": {},
   "outputs": [],
   "source": [
    "\n",
    "api_key = os.getenv(\"GOOGLE_API_KEY\")\n",
    "if not api_key:\n",
    "\n",
    "    api_key = input(\"Enter your Google API key: \").strip()\n",
    "    os.environ[\"GOOGLE_API_KEY\"] = api_key\n",
    "\n",
    "    if not api_key:\n",
    "        raise ValueError(\"No API key provided\")"
   ]
  },
  {
   "cell_type": "code",
   "execution_count": 11,
   "metadata": {},
   "outputs": [
    {
     "name": "stdout",
     "output_type": "stream",
     "text": [
      "Okay, here are 15 random words:\n",
      "\n",
      "1.  Serendipity\n",
      "2.  Oblivion\n",
      "3.  Kaleidoscope\n",
      "4.  Ephemeral\n",
      "5.  Quixotic\n",
      "6.  Mellifluous\n",
      "7.  Ubiquitous\n",
      "8.  Zephyr\n",
      "9.  Labyrinth\n",
      "10. Zenith\n",
      "11. Luminescence\n",
      "12. Nebulous\n",
      "13. Petrichor\n",
      "14. Idiosyncrasy\n",
      "15. Phantasmagoria\n",
      "\n"
     ]
    }
   ],
   "source": [
    "from google import genai\n",
    " \n",
    "gemini_client = genai.Client(api_key=os.getenv(\"GOOGLE_API_KEY\"))\n",
    "\n",
    "response = gemini_client.models.generate_content(\n",
    "    model=\"gemini-2.0-flash\",\n",
    "    contents=[\"You are a helpful assistant\",\n",
    "                \"Can you print 15 random words?\"]\n",
    ")\n",
    "\n",
    "print(response.text)"
   ]
  },
  {
   "cell_type": "code",
   "execution_count": 7,
   "metadata": {},
   "outputs": [],
   "source": [
    "api_key = os.getenv(\"GROQ_API_KEY\")\n",
    "if not api_key:\n",
    "\n",
    "    api_key = input(\"Enter your Groq API key: \").strip()\n",
    "    os.environ[\"GROQ_API_KEY\"] = api_key\n",
    "\n",
    "    if not api_key:\n",
    "        raise ValueError(\"No API key provided\")"
   ]
  },
  {
   "cell_type": "code",
   "execution_count": 10,
   "metadata": {},
   "outputs": [
    {
     "name": "stdout",
     "output_type": "stream",
     "text": [
      "1. Space\n",
      "2. Diamond\n",
      "3. Coffee\n",
      "4. Bicycle\n",
      "5. Banana\n",
      "6. Guitar\n",
      "7. Snowflake\n",
      "8. Submarine\n",
      "9. Caramel\n",
      "10. Fountain\n",
      "11. Starfish\n",
      "12. Kitten\n",
      "13. Perfume\n",
      "14. Luggage\n",
      "15. Harmonica\n",
      "16. Butterfly\n",
      "17. Parakeet\n",
      "18. Strawberry\n",
      "19. Tornado\n",
      "20. Laughter\n"
     ]
    }
   ],
   "source": [
    "import os\n",
    "\n",
    "from groq import Groq\n",
    "\n",
    "client = Groq(\n",
    "    api_key=os.environ.get(\"GROQ_API_KEY\"),\n",
    ")\n",
    "\n",
    "chat_completion = client.chat.completions.create(\n",
    "    messages=[\n",
    "        {\"role\": \"system\", \"content\": \"You are a helpful assistant.\"},\n",
    "        {\"role\": \"user\", \"content\": \"Can you print 20 random words?\"}\n",
    "    ],\n",
    "    model=\"llama-3.3-70b-versatile\",\n",
    ")\n",
    "\n",
    "print(chat_completion.choices[0].message.content)"
   ]
  }
 ],
 "metadata": {
  "kernelspec": {
   "display_name": ".venv",
   "language": "python",
   "name": "python3"
  },
  "language_info": {
   "codemirror_mode": {
    "name": "ipython",
    "version": 3
   },
   "file_extension": ".py",
   "mimetype": "text/x-python",
   "name": "python",
   "nbconvert_exporter": "python",
   "pygments_lexer": "ipython3",
   "version": "3.12.11"
  }
 },
 "nbformat": 4,
 "nbformat_minor": 2
}
